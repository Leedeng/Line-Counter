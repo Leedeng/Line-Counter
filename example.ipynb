{
 "cells": [
  {
   "cell_type": "code",
   "execution_count": 7,
   "metadata": {},
   "outputs": [
    {
     "name": "stdout",
     "output_type": "stream",
     "text": [
      "Using TensorFlow backend.\n",
      "WARNING: Logging before flag parsing goes to stderr.\n",
      "W0928 13:14:14.980363 140180100904768 deprecation_wrapper.py:119] From /home/viplab/anaconda3/envs/hyperLine/lib/python3.7/site-packages/keras/backend/tensorflow_backend.py:517: The name tf.placeholder is deprecated. Please use tf.compat.v1.placeholder instead.\n",
      "\n",
      "W0928 13:14:14.994730 140180100904768 deprecation_wrapper.py:119] From /home/viplab/anaconda3/envs/hyperLine/lib/python3.7/site-packages/keras/backend/tensorflow_backend.py:4138: The name tf.random_uniform is deprecated. Please use tf.random.uniform instead.\n",
      "\n",
      "W0928 13:14:15.019931 140180100904768 deprecation_wrapper.py:119] From /home/viplab/anaconda3/envs/hyperLine/lib/python3.7/site-packages/keras/backend/tensorflow_backend.py:245: The name tf.get_default_graph is deprecated. Please use tf.compat.v1.get_default_graph instead.\n",
      "\n",
      "W0928 13:14:15.020061 140180100904768 deprecation_wrapper.py:119] From /home/viplab/anaconda3/envs/hyperLine/lib/python3.7/site-packages/keras/backend/tensorflow_backend.py:174: The name tf.get_default_session is deprecated. Please use tf.compat.v1.get_default_session instead.\n",
      "\n",
      "W0928 13:14:15.020165 140180100904768 deprecation_wrapper.py:119] From /home/viplab/anaconda3/envs/hyperLine/lib/python3.7/site-packages/keras/backend/tensorflow_backend.py:181: The name tf.ConfigProto is deprecated. Please use tf.compat.v1.ConfigProto instead.\n",
      "\n",
      "W0928 13:14:16.042644 140180100904768 deprecation_wrapper.py:119] From /home/viplab/anaconda3/envs/hyperLine/lib/python3.7/site-packages/keras/backend/tensorflow_backend.py:1834: The name tf.nn.fused_batch_norm is deprecated. Please use tf.compat.v1.nn.fused_batch_norm instead.\n",
      "\n",
      "W0928 13:14:17.503147 140180100904768 deprecation_wrapper.py:119] From /home/viplab/anaconda3/envs/hyperLine/lib/python3.7/site-packages/keras/backend/tensorflow_backend.py:2020: The name tf.image.resize_bilinear is deprecated. Please use tf.compat.v1.image.resize_bilinear instead.\n",
      "\n",
      "W0928 13:14:19.398717 140180100904768 deprecation_wrapper.py:119] From /home/viplab/anaconda3/envs/hyperLine/lib/python3.7/site-packages/keras/optimizers.py:790: The name tf.train.Optimizer is deprecated. Please use tf.compat.v1.train.Optimizer instead.\n",
      "\n",
      "W0928 13:14:19.537118 140180100904768 deprecation.py:323] From /home/viplab/anaconda3/envs/hyperLine/lib/python3.7/site-packages/tensorflow/python/ops/math_grad.py:1250: add_dispatch_support.<locals>.wrapper (from tensorflow.python.ops.array_ops) is deprecated and will be removed in a future version.\n",
      "Instructions for updating:\n",
      "Use tf.where in 2.0, which has the same broadcast rule as np.where\n",
      "W0928 13:14:24.796782 140180100904768 deprecation_wrapper.py:119] From /home/viplab/anaconda3/envs/hyperLine/lib/python3.7/site-packages/keras/callbacks.py:850: The name tf.summary.merge_all is deprecated. Please use tf.compat.v1.summary.merge_all instead.\n",
      "\n",
      "W0928 13:14:24.797611 140180100904768 deprecation_wrapper.py:119] From /home/viplab/anaconda3/envs/hyperLine/lib/python3.7/site-packages/keras/callbacks.py:853: The name tf.summary.FileWriter is deprecated. Please use tf.compat.v1.summary.FileWriter instead.\n",
      "\n",
      "Epoch 1/500\n",
      "499/500 [============================>.] - ETA: 1s - loss: 15.1145 - acc: 0.1774Traceback (most recent call last):\n",
      "  File \"trainLineCounterV2.py\", line 373, in <module>\n",
      "    verbose=1)\n",
      "  File \"/home/viplab/anaconda3/envs/hyperLine/lib/python3.7/site-packages/keras/legacy/interfaces.py\", line 91, in wrapper\n",
      "    return func(*args, **kwargs)\n",
      "  File \"/home/viplab/anaconda3/envs/hyperLine/lib/python3.7/site-packages/keras/engine/training.py\", line 1418, in fit_generator\n",
      "    initial_epoch=initial_epoch)\n",
      "  File \"/home/viplab/anaconda3/envs/hyperLine/lib/python3.7/site-packages/keras/engine/training_generator.py\", line 234, in fit_generator\n",
      "    workers=0)\n",
      "  File \"/home/viplab/anaconda3/envs/hyperLine/lib/python3.7/site-packages/keras/legacy/interfaces.py\", line 91, in wrapper\n",
      "    return func(*args, **kwargs)\n",
      "  File \"/home/viplab/anaconda3/envs/hyperLine/lib/python3.7/site-packages/keras/engine/training.py\", line 1472, in evaluate_generator\n",
      "    verbose=verbose)\n",
      "  File \"/home/viplab/anaconda3/envs/hyperLine/lib/python3.7/site-packages/keras/engine/training_generator.py\", line 330, in evaluate_generator\n",
      "    generator_output = next(output_generator)\n",
      "  File \"/home/viplab/anaconda3/envs/hyperLine/lib/python3.7/site-packages/keras/utils/data_utils.py\", line 709, in get\n",
      "    six.reraise(*sys.exc_info())\n",
      "  File \"/home/viplab/anaconda3/envs/hyperLine/lib/python3.7/site-packages/six.py\", line 693, in reraise\n",
      "    raise value\n",
      "  File \"/home/viplab/anaconda3/envs/hyperLine/lib/python3.7/site-packages/keras/utils/data_utils.py\", line 685, in get\n",
      "    inputs = self.queue.get(block=True).get()\n",
      "  File \"/home/viplab/anaconda3/envs/hyperLine/lib/python3.7/multiprocessing/pool.py\", line 657, in get\n",
      "    raise self._value\n",
      "  File \"/home/viplab/anaconda3/envs/hyperLine/lib/python3.7/multiprocessing/pool.py\", line 121, in worker\n",
      "    result = (True, func(*args, **kwds))\n",
      "  File \"/home/viplab/anaconda3/envs/hyperLine/lib/python3.7/site-packages/keras/utils/data_utils.py\", line 626, in next_sample\n",
      "    return six.next(_SHARED_SEQUENCES[uid])\n",
      "  File \"/home/viplab/code/handwrittenlinesegmentation/source_code/src/CLUtils.py\", line 716, in __next__\n",
      "    return self[ self.batch_idx ]\n",
      "  File \"/home/viplab/code/handwrittenlinesegmentation/source_code/src/CLUtils.py\", line 684, in __getitem__\n",
      "    x, y = self._get_one_sample( idx )\n",
      "  File \"/home/viplab/code/handwrittenlinesegmentation/source_code/src/CLUtils.py\", line 589, in _get_one_sample\n",
      "    h = img.shape[0]\n",
      "IndexError: tuple index out of range\n"
     ]
    }
   ],
   "source": [
    "!python run.py --fontnum 2 --gpu 0"
   ]
  },
  {
   "cell_type": "code",
   "execution_count": 18,
   "metadata": {},
   "outputs": [],
   "source": []
  },
  {
   "cell_type": "code",
   "execution_count": null,
   "metadata": {},
   "outputs": [],
   "source": []
  }
 ],
 "metadata": {
  "kernelspec": {
   "display_name": "Python 3",
   "language": "python",
   "name": "python3"
  },
  "language_info": {
   "codemirror_mode": {
    "name": "ipython",
    "version": 3
   },
   "file_extension": ".py",
   "mimetype": "text/x-python",
   "name": "python",
   "nbconvert_exporter": "python",
   "pygments_lexer": "ipython3",
   "version": "3.7.4"
  }
 },
 "nbformat": 4,
 "nbformat_minor": 4
}
